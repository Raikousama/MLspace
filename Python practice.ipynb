{
 "cells": [
  {
   "cell_type": "code",
   "execution_count": 5,
   "id": "865b5eab",
   "metadata": {},
   "outputs": [
    {
     "name": "stdout",
     "output_type": "stream",
     "text": [
      "1 Is odd\n",
      "2 Is even\n",
      "3 Is odd\n",
      "4 Is even\n",
      "5 Is odd\n"
     ]
    }
   ],
   "source": [
    "listNumbers=[1,2,3,4,5]\n",
    "\n",
    "for number in listNumbers:\n",
    "    if(number%2==0):\n",
    "        print(number, \"Is even\")\n",
    "    else:\n",
    "        print(number, \"Is odd\")"
   ]
  },
  {
   "cell_type": "code",
   "execution_count": 6,
   "id": "e0025ef0",
   "metadata": {},
   "outputs": [
    {
     "data": {
      "text/plain": [
       "2401"
      ]
     },
     "execution_count": 6,
     "metadata": {},
     "output_type": "execute_result"
    }
   ],
   "source": [
    "x = 7**4\n",
    "x"
   ]
  },
  {
   "cell_type": "markdown",
   "id": "b7329f95",
   "metadata": {},
   "source": [
    "** Split this string:**\n",
    "\n",
    "    s = \"Hi there Sam!\"\n",
    "    \n",
    "**into a list. **"
   ]
  },
  {
   "cell_type": "code",
   "execution_count": 8,
   "id": "f3cbe861",
   "metadata": {},
   "outputs": [
    {
     "data": {
      "text/plain": [
       "['Hi', 'there', 'Sam!']"
      ]
     },
     "execution_count": 8,
     "metadata": {},
     "output_type": "execute_result"
    }
   ],
   "source": [
    "\n",
    "\n",
    "    s = \"Hi there Sam!\"\n",
    "    d=s.split(\" \")\n",
    "    d"
   ]
  },
  {
   "cell_type": "code",
   "execution_count": 11,
   "id": "b19d9527",
   "metadata": {},
   "outputs": [
    {
     "name": "stdout",
     "output_type": "stream",
     "text": [
      "The diameter of Earth is 12742 kilometers.\n"
     ]
    }
   ],
   "source": [
    "planet = \"Earth\"\n",
    "diameter = 12742\n",
    "tct= \"The diameter of {planet} is {dia} kilometers.\"\n",
    "print(tct.format(planet= planet, dia= diameter))"
   ]
  },
  {
   "cell_type": "code",
   "execution_count": 12,
   "id": "77e8df29",
   "metadata": {},
   "outputs": [
    {
     "data": {
      "text/plain": [
       "['hello']"
      ]
     },
     "execution_count": 12,
     "metadata": {},
     "output_type": "execute_result"
    }
   ],
   "source": [
    "lst = [1,2,[3,4],[5,[100,200,['hello']],23,11],1,7]\n",
    "lst[3][1][2]"
   ]
  },
  {
   "cell_type": "code",
   "execution_count": 20,
   "id": "ca5d2d5a",
   "metadata": {},
   "outputs": [
    {
     "data": {
      "text/plain": [
       "'hello'"
      ]
     },
     "execution_count": 20,
     "metadata": {},
     "output_type": "execute_result"
    }
   ],
   "source": [
    "d = {'k1':[1,2,3,{'tricky':['oh','man','inception',{'target':[1,2,3,'hello']}]}]}\n",
    "d.get('k1')[3].get('tricky')[3].get('target')[3]"
   ]
  },
  {
   "cell_type": "code",
   "execution_count": 24,
   "id": "9344d88a",
   "metadata": {},
   "outputs": [
    {
     "name": "stdout",
     "output_type": "stream",
     "text": [
      "domain.com\n"
     ]
    }
   ],
   "source": [
    "\n",
    "\n",
    "def domainGet(xo):\n",
    "    print(xo.split(\"@\")[1])\n",
    "    \n",
    "domainGet('user@domain.com')\n"
   ]
  },
  {
   "cell_type": "code",
   "execution_count": 35,
   "id": "9a157aba",
   "metadata": {},
   "outputs": [
    {
     "name": "stdout",
     "output_type": "stream",
     "text": [
      "false\n"
     ]
    }
   ],
   "source": [
    "string = \"Is there a cat here?\"\n",
    "substring =\"dog\"\n",
    "\n",
    "\n",
    "def findDog(findStr):\n",
    "    if substring in findStr:\n",
    "        print(\"true\")\n",
    "    else:\n",
    "        print(\"false\")\n",
    "findDog(string)"
   ]
  },
  {
   "cell_type": "code",
   "execution_count": 37,
   "id": "1a01dc96",
   "metadata": {},
   "outputs": [
    {
     "name": "stdout",
     "output_type": "stream",
     "text": [
      "2\n"
     ]
    }
   ],
   "source": [
    "def countDog(countStr):\n",
    "    print(countStr.count(substring))\n",
    "\n",
    "countDog('This dog runs faster than the other dog dude!')"
   ]
  },
  {
   "cell_type": "code",
   "execution_count": null,
   "id": "0afb2b66",
   "metadata": {},
   "outputs": [],
   "source": [
    "seq = ['soup','dog','salad','cat','great']\n",
    "seq"
   ]
  }
 ],
 "metadata": {
  "kernelspec": {
   "display_name": "Python 3 (ipykernel)",
   "language": "python",
   "name": "python3"
  },
  "language_info": {
   "codemirror_mode": {
    "name": "ipython",
    "version": 3
   },
   "file_extension": ".py",
   "mimetype": "text/x-python",
   "name": "python",
   "nbconvert_exporter": "python",
   "pygments_lexer": "ipython3",
   "version": "3.11.4"
  }
 },
 "nbformat": 4,
 "nbformat_minor": 5
}
